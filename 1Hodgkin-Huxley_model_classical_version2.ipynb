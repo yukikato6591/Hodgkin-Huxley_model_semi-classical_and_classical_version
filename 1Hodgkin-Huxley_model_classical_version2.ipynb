{
 "cells": [
  {
   "cell_type": "code",
   "execution_count": 2,
   "id": "5b72cdf9-efe1-45ce-9c66-65b96bbf1172",
   "metadata": {},
   "outputs": [
    {
     "data": {
      "image/png": "[encoded data removed]",
      "text/plain": [
       "<Figure size 432x288 with 3 Axes>"
      ]
     },
     "metadata": {
      "needs_background": "light"
     },
     "output_type": "display_data"
    }
   ],
   "source": [
    "import math\n",
    "import numpy as np\n",
    "import matplotlib.pyplot as plt\n",
    "\n",
    "# 平衡状態にする\n",
    "t=0.0 # t has ms scale.\n",
    "dt=0.01 # t has ms scale.\n",
    "endTime=50.0 # t has ms scale.\n",
    "steps=endTime/dt\n",
    "v = -65 \n",
    "I_app = 0\n",
    "V_Na = 50\n",
    "V_K = -77\n",
    "V_L = -54.387\n",
    "g_Na = 120\n",
    "g_K = 36\n",
    "g_L = 0.3\n",
    "C_m = 1.0 #uF/cm^2\n",
    "m = 0.05\n",
    "n = 0.6\n",
    "h = 0.32\n",
    "for step in range(int(steps)):\n",
    "    t += dt #時間をすすめる\n",
    "    a_m = 0.1*(v+40.0)/(1.0 - math.exp(-(v+40.0) / 10.0))\n",
    "    b_m = 4.0*math.exp(-(v+65.0) / 18.0)\n",
    "    a_h = 0.07*math.exp(-(v+65.0) / 20.0)\n",
    "    b_h = 1.0/(1.0 + math.exp(-(v+35.0) / 10.0))\n",
    "    a_n = 0.01*(v+55.0)/(1.0 - math.exp(-(v+55.0) / 10.0))\n",
    "    b_n = 0.125*math.exp(-(v+65) / 80.0)\n",
    "    I_Na = (m**3)*h*g_Na*(v-V_Na)\n",
    "    I_K = (n**4)*g_K*(v-V_K)\n",
    "    I_L = g_L*(v-V_L)\n",
    "    dv_dt = (-I_L-I_K-I_Na+I_app)/C_m\n",
    "    v += dv_dt * dt\n",
    "    dm_dt = a_m*(1-m) - b_m*m\n",
    "    m += dm_dt * dt\n",
    "    dn_dt = a_n*(1-n) - b_n*n\n",
    "    n += dn_dt * dt\n",
    "    dh_dt = a_h*(1-h) - b_h*h\n",
    "    h += dh_dt * dt\n",
    "\n",
    "# 実際の計算\n",
    "t=0.0 # t has ms scale.\n",
    "dt=0.0005 # t has ms scale.\n",
    "endTime=10.0 # t has ms scale.\n",
    "steps=endTime/dt\n",
    "t2_array=np.arange(0,endTime,dt)\n",
    "v2_array=np.array([])\n",
    "m2_array=np.array([])\n",
    "n2_array=np.array([])\n",
    "h2_array=np.array([])\n",
    "\n",
    "I_app = 10\n",
    "for step in range(int(steps)):\n",
    "    t += dt #時間をすすめる\n",
    "    a_m = 0.1*(v+40.0)/(1.0 - math.exp(-(v+40.0) / 10.0))\n",
    "    b_m = 4.0*math.exp(-(v+65.0) / 18.0)\n",
    "    a_h = 0.07*math.exp(-(v+65.0) / 20.0)\n",
    "    b_h = 1.0/(1.0 + math.exp(-(v+35.0) / 10.0))\n",
    "    a_n = 0.01*(v+55.0)/(1.0 - math.exp(-(v+55.0) / 10.0))\n",
    "    b_n = 0.125*math.exp(-(v+65) / 80.0)\n",
    "    I_Na = (m**3)*h*g_Na*(v-V_Na)\n",
    "    I_K = (n**4)*g_K*(v-V_K)\n",
    "    I_L = g_L*(v-V_L)\n",
    "    dv_dt = (-I_L-I_K-I_Na+I_app)/C_m\n",
    "    v += dv_dt * dt\n",
    "    dm_dt = a_m*(1-m) - b_m*m\n",
    "    m += dm_dt * dt\n",
    "    dn_dt = a_n*(1-n) - b_n*n\n",
    "    n += dn_dt * dt\n",
    "    dh_dt = a_h*(1-h) - b_h*h\n",
    "    h += dh_dt * dt\n",
    "    v2_array=np.append(v2_array,v)\n",
    "    n2_array=np.append(n2_array,n)\n",
    "    m2_array=np.append(m2_array,m)\n",
    "    h2_array=np.append(h2_array,h)\n",
    "    \n",
    "fig = plt.figure()\n",
    "ax1 = fig.add_subplot(3, 1, 1)\n",
    "ax2 = fig.add_subplot(3, 1, 2)\n",
    "ax3 = fig.add_subplot(3, 1, 3)\n",
    "ax1.plot(t2_array,v2_array,c='b', label = 'V')\n",
    "ax1.legend()\n",
    "ax2.plot(t2_array,m2_array,c='r', label = 'm')\n",
    "ax3.plot(t2_array,n2_array,c='g', label = 'n')\n",
    "ax3.legend()\n",
    "ax2.plot(t2_array,h2_array,c='y', label = 'h')\n",
    "ax2.legend()\n",
    "fig.tight_layout()              #レイアウトの設定\n",
    "plt.show()"
   ]
  },
  {
   "cell_type": "code",
   "execution_count": null,
   "id": "d48bd9c1-83c4-4b22-9ee7-bc439958ceab",
   "metadata": {},
   "outputs": [],
   "source": []
  }
 ],
 "metadata": {
  "kernelspec": {
   "display_name": "Python 3 (ipykernel)",
   "language": "python",
   "name": "python3"
  },
  "language_info": {
   "codemirror_mode": {
    "name": "ipython",
    "version": 3
   },
   "file_extension": ".py",
   "mimetype": "text/x-python",
   "name": "python",
   "nbconvert_exporter": "python",
   "pygments_lexer": "ipython3",
   "version": "3.9.7"
  }
 },
 "nbformat": 4,
 "nbformat_minor": 5
}
